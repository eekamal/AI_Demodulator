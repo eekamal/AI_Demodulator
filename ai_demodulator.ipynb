{
 "cells": [
  {
   "cell_type": "markdown",
   "metadata": {
    "id": "vkEg0Zf7_o6N"
   },
   "source": [
    "# **Reading Dataset**"
   ]
  },
  {
   "cell_type": "code",
   "execution_count": 2,
   "metadata": {
    "colab": {
     "base_uri": "https://localhost:8080/"
    },
    "id": "RSFY8KfNX1ew",
    "outputId": "c8375013-28bd-4a10-b212-f634a2482216"
   },
   "outputs": [],
   "source": [
    "# Needed Libraries\n",
    "import pandas as pd\n",
    "import glob\n",
    "import os"
   ]
  },
  {
   "cell_type": "code",
   "execution_count": 15,
   "metadata": {
    "id": "jWPN-67T_hv0"
   },
   "outputs": [],
   "source": [
    "# Reading Train Files (kb2)\n",
    "path = 'F:/10th Semester/Electronics and Communications Engineering Project B/Data set/data_set/train_dataset/data_kb2/mod_data' \n",
    "all_files = glob.glob(os.path.join(path , \"*.csv\"))\n",
    "trn_demod_kb2 = []\n",
    "\n",
    "for filename in all_files:\n",
    "    df = pd.read_csv(filename, index_col=None, header=None)\n",
    "    trn_demod_kb2.append(df)\n",
    "\n",
    "\n",
    "\n",
    "\n",
    "lblpath = \"F:/10th Semester/Electronics and Communications Engineering Project B/Data set/data_set/train_dataset/data_kb2/label_data\"\n",
    "lbl_files = glob.glob(os.path.join(lblpath , \"*.csv\"))\n",
    "trn_lbl_kb2 =[]\n",
    "\n",
    "for filenamelbl in lbl_files:\n",
    "    df = pd.read_csv(filenamelbl, index_col=None, header=None)\n",
    "    trn_lbl_kb2.append(df)\n",
    "\n",
    "\n"
   ]
  },
  {
   "cell_type": "code",
   "execution_count": 19,
   "metadata": {
    "id": "pIwlS6DmUCpS"
   },
   "outputs": [],
   "source": [
    "# Reading Train Files (awgn)\n",
    "path = 'F:/10th Semester/Electronics and Communications Engineering Project B/Data set/data_set/train_dataset/data_awgn/mod_data' \n",
    "all_files = glob.glob(os.path.join(path , \"*.csv\"))\n",
    "trn_demod_awgn = []\n",
    "\n",
    "for filename in all_files:\n",
    "    df = pd.read_csv(filename, index_col=None, header=None)\n",
    "    trn_demod_awgn.append(df)\n",
    "\n",
    "\n",
    "\n",
    "\n",
    "lblpath = \"F:/10th Semester/Electronics and Communications Engineering Project B/Data set/data_set/train_dataset/data_awgn/label_data\"\n",
    "lbl_files = glob.glob(os.path.join(lblpath , \"*.csv\"))\n",
    "trn_lbl_awgn =[]\n",
    "\n",
    "for filenamelbl in lbl_files:\n",
    "    df = pd.read_csv(filenamelbl, index_col=None, header=None)\n",
    "    trn_lbl_awgn.append(df)\n",
    "\n",
    "\n"
   ]
  },
  {
   "cell_type": "code",
   "execution_count": 92,
   "metadata": {
    "id": "5GuhpdEQZKWP"
   },
   "outputs": [],
   "source": [
    "# Reading Test Files (awgn_Tb0d3)\n",
    "path = 'F:/10th Semester/Electronics and Communications Engineering Project B/Data set/data_set/test_dataset/test_data/Awgn_Tb0d3' \n",
    "all_files = glob.glob(os.path.join(path , \"*.csv\"))\n",
    "tst_demod_awgn_Tb0d3 = []\n",
    "\n",
    "for filename in all_files:\n",
    "    df = pd.read_csv(filename, index_col=None, header=None)\n",
    "    tst_demod_awgn_Tb0d3.append(df)\n",
    "\n",
    "\n",
    "\n",
    "lblpath = 'F:/10th Semester/Electronics and Communications Engineering Project B/Data set/data_set/test_dataset/test_label/Awgn_Tb0d3'\n",
    "lbl_files = glob.glob(os.path.join(lblpath , \"*.csv\"))\n",
    "tst_lbl_awgn_Tb0d3 =[]\n",
    "\n",
    "for filenamelbl in lbl_files:\n",
    "    df = pd.read_csv(filenamelbl, index_col=None, header=None)\n",
    "    tst_lbl_awgn_Tb0d3.append(df)\n",
    "\n",
    "\n"
   ]
  },
  {
   "cell_type": "code",
   "execution_count": 20,
   "metadata": {
    "id": "UH3d6VhtZnTs"
   },
   "outputs": [],
   "source": [
    "# Reading Test Files (awgn_Tb0d5)\n",
    "path = 'F:/10th Semester/Electronics and Communications Engineering Project B/Data set/data_set/test_dataset/test_data/Awgn_Tb0d5' \n",
    "all_files = glob.glob(os.path.join(path , \"*.csv\"))\n",
    "tst_demod_awgn_Tb0d5 = []\n",
    "\n",
    "for filename in all_files:\n",
    "    df = pd.read_csv(filename, index_col=None, header=None)\n",
    "    tst_demod_awgn_Tb0d5.append(df)\n",
    "\n",
    "\n",
    "\n",
    "lblpath = 'F:/10th Semester/Electronics and Communications Engineering Project B/Data set/data_set/test_dataset/test_label/Awgn_Tb0d5'\n",
    "lbl_files = glob.glob(os.path.join(lblpath , \"*.csv\"))\n",
    "tst_lbl_awgn_Tb0d5 =[]\n",
    "\n",
    "for filenamelbl in lbl_files:\n",
    "    df = pd.read_csv(filenamelbl, index_col=None, header=None)\n",
    "    tst_lbl_awgn_Tb0d5.append(df)\n",
    "\n",
    "\n"
   ]
  },
  {
   "cell_type": "code",
   "execution_count": 21,
   "metadata": {
    "id": "47XuxzJ2WyF3"
   },
   "outputs": [],
   "source": [
    "# Reading Test Files (kb2_Tb0d3_m1d2)\n",
    "path = 'F:/10th Semester/Electronics and Communications Engineering Project B/Data set/data_set/test_dataset/test_data/kb2_Tb0d3_m1d2' \n",
    "all_files = glob.glob(os.path.join(path , \"*.csv\"))\n",
    "tst_demod_kb2_Tb0d3_m1d2 = []\n",
    "\n",
    "for filename in all_files:\n",
    "    df = pd.read_csv(filename, index_col=None, header=None)\n",
    "    tst_demod_kb2_Tb0d3_m1d2.append(df)\n",
    "\n",
    "\n",
    "\n",
    "\n",
    "lblpath = 'F:/10th Semester/Electronics and Communications Engineering Project B/Data set/data_set/test_dataset/test_label/kb2_Tb0d3_m1d2'\n",
    "lbl_files = glob.glob(os.path.join(lblpath , \"*.csv\"))\n",
    "tst_lbl_kb2_Tb0d3_m1d2 =[]\n",
    "\n",
    "for filenamelbl in lbl_files:\n",
    "    df = pd.read_csv(filenamelbl, index_col=None, header=None)\n",
    "    tst_lbl_kb2_Tb0d3_m1d2.append(df)\n",
    "\n",
    "\n"
   ]
  },
  {
   "cell_type": "code",
   "execution_count": 22,
   "metadata": {
    "id": "NNWfiEwFYD5G"
   },
   "outputs": [],
   "source": [
    "# Reading Test Files (kb2_Tb0d3_m1d4)\n",
    "path = 'F:/10th Semester/Electronics and Communications Engineering Project B/Data set/data_set/test_dataset/test_data/kb2_Tb0d3_m1d4' \n",
    "all_files = glob.glob(os.path.join(path , \"*.csv\"))\n",
    "tst_demod_kb2_Tb0d3_m1d4 = []\n",
    "\n",
    "for filename in all_files:\n",
    "    df = pd.read_csv(filename, index_col=None, header=None)\n",
    "    tst_demod_kb2_Tb0d3_m1d4.append(df)\n",
    "\n",
    "\n",
    "\n",
    "lblpath = 'F:/10th Semester/Electronics and Communications Engineering Project B/Data set/data_set/test_dataset/test_label/kb2_Tb0d3_m1d4'\n",
    "lbl_files = glob.glob(os.path.join(lblpath , \"*.csv\"))\n",
    "tst_lbl_kb2_Tb0d3_m1d4 =[]\n",
    "\n",
    "for filenamelbl in lbl_files:\n",
    "    df = pd.read_csv(filenamelbl, index_col=None, header=None)\n",
    "    tst_lbl_kb2_Tb0d3_m1d4.append(df)\n",
    "\n",
    "\n"
   ]
  },
  {
   "cell_type": "code",
   "execution_count": 23,
   "metadata": {
    "id": "QvN67RLhYxME"
   },
   "outputs": [],
   "source": [
    "# Reading Test Files (kb2_Tb0d5_m1d2)\n",
    "path = 'F:/10th Semester/Electronics and Communications Engineering Project B/Data set/data_set/test_dataset/test_data/kb2_Tb0d5_m1d2' \n",
    "all_files = glob.glob(os.path.join(path , \"*.csv\"))\n",
    "tst_demod_kb2_Tb0d5_m1d2 = []\n",
    "\n",
    "for filename in all_files:\n",
    "    df = pd.read_csv(filename, index_col=None, header=None)\n",
    "    tst_demod_kb2_Tb0d5_m1d2.append(df)\n",
    "\n",
    "\n",
    "\n",
    "lblpath = 'F:/10th Semester/Electronics and Communications Engineering Project B/Data set/data_set/test_dataset/test_label/kb2_Tb0d5_m1d2'\n",
    "lbl_files = glob.glob(os.path.join(lblpath , \"*.csv\"))\n",
    "tst_lbl_kb2_Tb0d5_m1d2 =[]\n",
    "\n",
    "for filenamelbl in lbl_files:\n",
    "    df = pd.read_csv(filenamelbl, index_col=None, header=None)\n",
    "    tst_lbl_kb2_Tb0d5_m1d2.append(df)\n",
    "\n",
    "\n"
   ]
  },
  {
   "cell_type": "code",
   "execution_count": 24,
   "metadata": {
    "id": "-_ZiCu0cZA0q"
   },
   "outputs": [],
   "source": [
    "# Reading Test Files (kb2_Tb0d5_m1d4)\n",
    "path = 'F:/10th Semester/Electronics and Communications Engineering Project B/Data set/data_set/test_dataset/test_data/kb2_Tb0d5_m1d4' \n",
    "all_files = glob.glob(os.path.join(path , \"*.csv\"))\n",
    "tst_demod_kb2_Tb0d5_m1d4 = []\n",
    "\n",
    "for filename in all_files:\n",
    "    df = pd.read_csv(filename, index_col=None, header=None)\n",
    "    tst_demod_kb2_Tb0d5_m1d4.append(df)\n",
    "\n",
    "\n",
    "\n",
    "lblpath = 'F:/10th Semester/Electronics and Communications Engineering Project B/Data set/data_set/test_dataset/test_label/kb2_Tb0d5_m1d4'\n",
    "lbl_files = glob.glob(os.path.join(lblpath , \"*.csv\"))\n",
    "tst_lbl_kb2_Tb0d5_m1d4 =[]\n",
    "\n",
    "for filenamelbl in lbl_files:\n",
    "    df = pd.read_csv(filenamelbl, index_col=None, header=None)\n",
    "    tst_lbl_kb2_Tb0d5_m1d4.append(df)\n",
    "\n",
    "\n"
   ]
  },
  {
   "cell_type": "code",
   "execution_count": null,
   "metadata": {
    "id": "ZE97hx1mZncp"
   },
   "outputs": [],
   "source": []
  },
  {
   "cell_type": "markdown",
   "metadata": {
    "id": "6R4sShamZ6zL"
   },
   "source": [
    "# **Featuring Dataset**"
   ]
  },
  {
   "cell_type": "code",
   "execution_count": 138,
   "metadata": {
    "id": "RmYX9NYzbnoD"
   },
   "outputs": [],
   "source": [
    "# Needed Libraries\n",
    "import tensorflow as tf"
   ]
  },
  {
   "cell_type": "code",
   "execution_count": 31,
   "metadata": {
    "colab": {
     "base_uri": "https://localhost:8080/"
    },
    "id": "NRfTl5ECZ7jI",
    "outputId": "ade471e6-24e5-442d-9ff1-3cf33014228c"
   },
   "outputs": [
    {
     "name": "stdout",
     "output_type": "stream",
     "text": [
      "(42000, 800, 2)\n",
      "(42000, 100, 1)\n"
     ]
    }
   ],
   "source": [
    "# Featuuring Train Files\n",
    "trn_demod = trn_demod_awgn + trn_demod_kb2\n",
    "x_trn=tf.stack(trn_demod)\n",
    "print(x_trn.shape)\n",
    "trn_lbl = trn_lbl_awgn + trn_lbl_kb2 \n",
    "y_trn=tf.stack(trn_lbl)\n",
    "print(y_trn.shape)"
   ]
  },
  {
   "cell_type": "code",
   "execution_count": 91,
   "metadata": {},
   "outputs": [
    {
     "name": "stdout",
     "output_type": "stream",
     "text": [
      "1401\n",
      "1400\n"
     ]
    }
   ],
   "source": [
    "print(len(tst_lbl_awgn_Tb0d3))\n",
    "print(len(tst_lbl_awgn_Tb0d5))\n"
   ]
  },
  {
   "cell_type": "code",
   "execution_count": 93,
   "metadata": {
    "colab": {
     "base_uri": "https://localhost:8080/"
    },
    "id": "aSBbLqpfbg3K",
    "outputId": "254b44e6-a299-4c3e-ec3f-334714225478"
   },
   "outputs": [
    {
     "name": "stdout",
     "output_type": "stream",
     "text": [
      "(8400, 800, 2)\n",
      "(8400, 100, 1)\n"
     ]
    }
   ],
   "source": [
    "# Featuuring tst Files\n",
    "tst_demod = tst_demod_awgn_Tb0d3 + tst_demod_awgn_Tb0d5 + tst_demod_kb2_Tb0d3_m1d2 + tst_demod_kb2_Tb0d3_m1d4 + tst_demod_kb2_Tb0d5_m1d2 + tst_demod_kb2_Tb0d5_m1d4\n",
    "#    \n",
    "x_tst=tf.stack(tst_demod)\n",
    "print(x_tst.shape)\n",
    "tst_lbl = tst_lbl_awgn_Tb0d3 + tst_lbl_awgn_Tb0d5 + tst_lbl_kb2_Tb0d3_m1d2 + tst_lbl_kb2_Tb0d3_m1d4 + tst_lbl_kb2_Tb0d5_m1d2 + tst_lbl_kb2_Tb0d5_m1d4\n",
    "#  \n",
    "y_tst=tf.stack(tst_lbl)\n",
    "print(y_tst.shape)"
   ]
  },
  {
   "cell_type": "code",
   "execution_count": null,
   "metadata": {
    "id": "tOrCSCNwbhGC"
   },
   "outputs": [],
   "source": []
  },
  {
   "cell_type": "markdown",
   "metadata": {
    "id": "1hC7_DZg-828"
   },
   "source": [
    "# **Building Model**"
   ]
  },
  {
   "cell_type": "code",
   "execution_count": 30,
   "metadata": {
    "id": "S-xoAFXzP6Qn"
   },
   "outputs": [
    {
     "name": "stdout",
     "output_type": "stream",
     "text": [
      "Model: \"model_6\"\n",
      "__________________________________________________________________________________________________\n",
      "Layer (type)                    Output Shape         Param #     Connected to                     \n",
      "==================================================================================================\n",
      "input_6 (InputLayer)            [(None, 800, 2)]     0                                            \n",
      "__________________________________________________________________________________________________\n",
      "conv1d_10 (Conv1D)              (None, 800, 64)      1472        input_6[0][0]                    \n",
      "__________________________________________________________________________________________________\n",
      "batch_normalization_10 (BatchNo (None, 800, 64)      256         conv1d_10[0][0]                  \n",
      "__________________________________________________________________________________________________\n",
      "activation_35 (Activation)      (None, 800, 64)      0           batch_normalization_10[0][0]     \n",
      "__________________________________________________________________________________________________\n",
      "conv1d_11 (Conv1D)              (None, 800, 8)       5640        activation_35[0][0]              \n",
      "__________________________________________________________________________________________________\n",
      "lstm_8 (LSTM)                   (None, 800, 32)      4480        input_6[0][0]                    \n",
      "__________________________________________________________________________________________________\n",
      "batch_normalization_11 (BatchNo (None, 800, 8)       32          conv1d_11[0][0]                  \n",
      "__________________________________________________________________________________________________\n",
      "activation_38 (Activation)      (None, 800, 32)      0           lstm_8[0][0]                     \n",
      "__________________________________________________________________________________________________\n",
      "activation_36 (Activation)      (None, 800, 8)       0           batch_normalization_11[0][0]     \n",
      "__________________________________________________________________________________________________\n",
      "dropout_16 (Dropout)            (None, 800, 32)      0           activation_38[0][0]              \n",
      "__________________________________________________________________________________________________\n",
      "max_pooling1d_5 (MaxPooling1D)  (None, 400, 8)       0           activation_36[0][0]              \n",
      "__________________________________________________________________________________________________\n",
      "lstm_9 (LSTM)                   (None, 800, 32)      8320        dropout_16[0][0]                 \n",
      "__________________________________________________________________________________________________\n",
      "activation_37 (Activation)      (None, 400, 8)       0           max_pooling1d_5[0][0]            \n",
      "__________________________________________________________________________________________________\n",
      "activation_39 (Activation)      (None, 800, 32)      0           lstm_9[0][0]                     \n",
      "__________________________________________________________________________________________________\n",
      "flatten_12 (Flatten)            (None, 3200)         0           activation_37[0][0]              \n",
      "__________________________________________________________________________________________________\n",
      "flatten_13 (Flatten)            (None, 25600)        0           activation_39[0][0]              \n",
      "__________________________________________________________________________________________________\n",
      "concatenate_3 (Concatenate)     (None, 28800)        0           flatten_12[0][0]                 \n",
      "                                                                 flatten_13[0][0]                 \n",
      "__________________________________________________________________________________________________\n",
      "flatten_14 (Flatten)            (None, 28800)        0           concatenate_3[0][0]              \n",
      "__________________________________________________________________________________________________\n",
      "dense_18 (Dense)                (None, 2048)         58984448    flatten_14[0][0]                 \n",
      "__________________________________________________________________________________________________\n",
      "activation_40 (Activation)      (None, 2048)         0           dense_18[0][0]                   \n",
      "__________________________________________________________________________________________________\n",
      "dropout_17 (Dropout)            (None, 2048)         0           activation_40[0][0]              \n",
      "__________________________________________________________________________________________________\n",
      "dense_19 (Dense)                (None, 1024)         2098176     dropout_17[0][0]                 \n",
      "__________________________________________________________________________________________________\n",
      "activation_41 (Activation)      (None, 1024)         0           dense_19[0][0]                   \n",
      "__________________________________________________________________________________________________\n",
      "dropout_18 (Dropout)            (None, 1024)         0           activation_41[0][0]              \n",
      "__________________________________________________________________________________________________\n",
      "dense_20 (Dense)                (None, 100)          102500      dropout_18[0][0]                 \n",
      "==================================================================================================\n",
      "Total params: 61,205,324\n",
      "Trainable params: 61,205,180\n",
      "Non-trainable params: 144\n",
      "__________________________________________________________________________________________________\n"
     ]
    }
   ],
   "source": [
    "import tensorflow as tf\n",
    "from tensorflow.keras.layers import Input, Conv1D, BatchNormalization, Activation, MaxPooling1D, LSTM, concatenate, Dropout, Flatten, Dense\n",
    "from tensorflow.keras.models import Model\n",
    "\n",
    "# define input shape\n",
    "input_shape = (800, 2)\n",
    "\n",
    "# define layers and parameters\n",
    "conv1d_filters = 64\n",
    "conv1d_kernel_size = 11\n",
    "conv1d_strides = 1\n",
    "\n",
    "bn1d_filters = 64\n",
    "\n",
    "conv1d_filters2 = 8\n",
    "conv1d_kernel_size2 = 11\n",
    "conv1d_strides2 = 1\n",
    "\n",
    "bn1d_filters2 = 8\n",
    "\n",
    "max_pool_size = 2\n",
    "\n",
    "lstm_units1 = 32\n",
    "dropout_rate1 = 0.2\n",
    "\n",
    "lstm_units2 = 32\n",
    "\n",
    "dense_units1 = 2048\n",
    "dropout_rate2 = 0.08\n",
    "\n",
    "dense_units2 = 1024\n",
    "dropout_rate3 = 0.08\n",
    "\n",
    "dense_units3 = 100\n",
    "\n",
    "# create the model\n",
    "inputs = Input(shape=input_shape)\n",
    "\n",
    "# convolution layer 1\n",
    "conv1 = Conv1D(filters=conv1d_filters, kernel_size=conv1d_kernel_size, strides=conv1d_strides, padding='same')(inputs)\n",
    "\n",
    "# batch normalization layer 1\n",
    "bn1 = BatchNormalization()(conv1)\n",
    "\n",
    "# activation layer 1\n",
    "act1 = Activation('relu')(bn1)\n",
    "\n",
    "# convolution layer 2\n",
    "conv2 = Conv1D(filters=conv1d_filters2, kernel_size=conv1d_kernel_size2, strides=conv1d_strides2, padding='same')(act1)\n",
    "\n",
    "# batch normalization layer 2\n",
    "bn2 = BatchNormalization()(conv2)\n",
    "\n",
    "# activation layer 2\n",
    "act2 = Activation('relu')(bn2)\n",
    "\n",
    "# max pooling layer\n",
    "max_pool = MaxPooling1D(pool_size=max_pool_size)(act2)\n",
    "\n",
    "# activation layer 3\n",
    "act3 = Activation('relu')(max_pool)\n",
    "flatten_P1 = Flatten()(act3)\n",
    "\n",
    "# bidirectional LSTM layer 1\n",
    "lstm1 = LSTM(units=lstm_units1, return_sequences=True)(inputs)\n",
    "\n",
    "# tanh and dropout layer\n",
    "tanh = Activation('tanh')(lstm1)\n",
    "drop1 = Dropout(rate=dropout_rate1)(tanh)\n",
    "\n",
    "# bidirectional LSTM layer 2\n",
    "lstm2 = LSTM(units=lstm_units2,return_sequences=True)(drop1)\n",
    "\n",
    "# activation layer 4\n",
    "act4 = Activation('relu')(lstm2)\n",
    "flatten_P2 = Flatten()(act4)\n",
    "\n",
    "# concatenate and flatten layer\n",
    "concat = concatenate([flatten_P1, flatten_P2])\n",
    "flatten = Flatten()(concat)\n",
    "\n",
    "# fully connected layer 1\n",
    "dense1 = Dense(units=dense_units1)(flatten)\n",
    "\n",
    "# activation layer 5 and dropout layer 2\n",
    "act5 = Activation('relu')(dense1)\n",
    "drop2 = Dropout(rate=dropout_rate2)(act5)\n",
    "\n",
    "# fully connected layer 2\n",
    "dense2 = Dense(units=dense_units2)(drop2)\n",
    "\n",
    "# activation layer 6 and dropout layer 3\n",
    "act6 = Activation('relu')(dense2)\n",
    "drop3 = Dropout(rate=dropout_rate3)(act6)\n",
    "\n",
    "# fully connected output layer\n",
    "output = Dense(units=dense_units3, activation='sigmoid')(drop3)\n",
    "\n",
    "# create the model\n",
    "model = Model(inputs=inputs, outputs=output)\n",
    "\n",
    "# compile the model\n",
    "model.compile(loss='mse', optimizer='adam')\n",
    "\n",
    "model.summary()"
   ]
  },
  {
   "cell_type": "code",
   "execution_count": 158,
   "metadata": {
    "id": "ifn0XNOE_dA7"
   },
   "outputs": [
    {
     "name": "stdout",
     "output_type": "stream",
     "text": [
      "Requirement already satisfied: pydot==1.2.3 in c:\\users\\kareem\\anaconda3\\envs\\hello-tf\\lib\\site-packages (1.2.3)\n",
      "Requirement already satisfied: pyparsing>=2.1.4 in c:\\users\\kareem\\anaconda3\\envs\\hello-tf\\lib\\site-packages (from pydot==1.2.3) (3.0.4)\n",
      "('You must install pydot (`pip install pydot`) and install graphviz (see instructions at https://graphviz.gitlab.io/download/) ', 'for plot_model/model_to_dot to work.')\n"
     ]
    }
   ],
   "source": [
    "from tensorflow.keras.utils import plot_model\n",
    "!pip install pydot==1.2.3\n",
    "plot_model(model, to_file=\"my_model.png\", show_shapes=True)"
   ]
  },
  {
   "cell_type": "code",
   "execution_count": 33,
   "metadata": {
    "id": "IVTRmiuDIq4X"
   },
   "outputs": [
    {
     "name": "stdout",
     "output_type": "stream",
     "text": [
      "Epoch 1/40\n",
      "58/58 [==============================] - 878s 15s/step - loss: 0.2534 - val_loss: 0.2500\n",
      "Epoch 2/40\n",
      "58/58 [==============================] - 855s 15s/step - loss: 0.2500 - val_loss: 0.2500\n",
      "Epoch 3/40\n",
      "58/58 [==============================] - 824s 14s/step - loss: 0.2500 - val_loss: 0.2500\n",
      "Epoch 4/40\n",
      "58/58 [==============================] - 830s 14s/step - loss: 0.2495 - val_loss: 0.2490\n",
      "Epoch 5/40\n",
      "58/58 [==============================] - 835s 14s/step - loss: 0.2304 - val_loss: 0.2115\n",
      "Epoch 6/40\n",
      "58/58 [==============================] - 840s 14s/step - loss: 0.1826 - val_loss: 0.1756\n",
      "Epoch 7/40\n",
      "58/58 [==============================] - 847s 15s/step - loss: 0.1538 - val_loss: 0.1577\n",
      "Epoch 8/40\n",
      "58/58 [==============================] - 848s 15s/step - loss: 0.1384 - val_loss: 0.1483\n",
      "Epoch 9/40\n",
      "58/58 [==============================] - 848s 15s/step - loss: 0.1294 - val_loss: 0.1444\n",
      "Epoch 10/40\n",
      "58/58 [==============================] - 859s 15s/step - loss: 0.1240 - val_loss: 0.1432\n",
      "Epoch 11/40\n",
      "58/58 [==============================] - 860s 15s/step - loss: 0.1196 - val_loss: 0.1415\n",
      "Epoch 12/40\n",
      "58/58 [==============================] - 855s 15s/step - loss: 0.1163 - val_loss: 0.1416\n",
      "Epoch 13/40\n",
      "58/58 [==============================] - 877s 15s/step - loss: 0.1135 - val_loss: 0.1415\n",
      "Epoch 14/40\n",
      "58/58 [==============================] - 852s 15s/step - loss: 0.1106 - val_loss: 0.1421\n",
      "Epoch 15/40\n",
      "58/58 [==============================] - 856s 15s/step - loss: 0.1081 - val_loss: 0.1416\n",
      "Epoch 16/40\n",
      "58/58 [==============================] - 851s 15s/step - loss: 0.1050 - val_loss: 0.1405\n",
      "Epoch 17/40\n",
      "58/58 [==============================] - 29227s 513s/step - loss: 0.1030 - val_loss: 0.1407\n",
      "Epoch 18/40\n",
      "58/58 [==============================] - 856s 15s/step - loss: 0.1006 - val_loss: 0.1394\n",
      "Epoch 19/40\n",
      "58/58 [==============================] - 858s 15s/step - loss: 0.0979 - val_loss: 0.1394\n",
      "Epoch 20/40\n",
      "58/58 [==============================] - 854s 15s/step - loss: 0.0960 - val_loss: 0.1404\n",
      "Epoch 21/40\n",
      "58/58 [==============================] - 855s 15s/step - loss: 0.0933 - val_loss: 0.1415\n",
      "Epoch 22/40\n",
      "58/58 [==============================] - 862s 15s/step - loss: 0.0913 - val_loss: 0.1411\n",
      "Epoch 23/40\n",
      "58/58 [==============================] - 863s 15s/step - loss: 0.0893 - val_loss: 0.1409\n",
      "Epoch 24/40\n",
      "58/58 [==============================] - 854s 15s/step - loss: 0.0873 - val_loss: 0.1421\n",
      "Epoch 25/40\n",
      "58/58 [==============================] - 855s 15s/step - loss: 0.0856 - val_loss: 0.1414\n",
      "Epoch 26/40\n",
      "58/58 [==============================] - 857s 15s/step - loss: 0.0837 - val_loss: 0.1425\n",
      "Epoch 27/40\n",
      "58/58 [==============================] - 853s 15s/step - loss: 0.0820 - val_loss: 0.1430\n",
      "Epoch 28/40\n",
      "58/58 [==============================] - 854s 15s/step - loss: 0.0803 - val_loss: 0.1427\n",
      "Epoch 29/40\n",
      "58/58 [==============================] - 855s 15s/step - loss: 0.0789 - val_loss: 0.1450\n",
      "Epoch 30/40\n",
      "58/58 [==============================] - 859s 15s/step - loss: 0.0775 - val_loss: 0.1435\n",
      "Epoch 31/40\n",
      "58/58 [==============================] - 858s 15s/step - loss: 0.0761 - val_loss: 0.1440\n",
      "Epoch 32/40\n",
      "58/58 [==============================] - 856s 15s/step - loss: 0.0747 - val_loss: 0.1441\n",
      "Epoch 33/40\n",
      "58/58 [==============================] - 857s 15s/step - loss: 0.0735 - val_loss: 0.1444\n",
      "Epoch 34/40\n",
      "58/58 [==============================] - 857s 15s/step - loss: 0.0725 - val_loss: 0.1457\n",
      "Epoch 35/40\n",
      "58/58 [==============================] - 857s 15s/step - loss: 0.0712 - val_loss: 0.1462\n",
      "Epoch 36/40\n",
      "58/58 [==============================] - 860s 15s/step - loss: 0.0704 - val_loss: 0.1471\n",
      "Epoch 37/40\n",
      "58/58 [==============================] - 849s 15s/step - loss: 0.0692 - val_loss: 0.1466\n",
      "Epoch 38/40\n",
      "58/58 [==============================] - 853s 15s/step - loss: 0.0684 - val_loss: 0.1468\n",
      "Epoch 39/40\n",
      "58/58 [==============================] - 855s 15s/step - loss: 0.0673 - val_loss: 0.1473\n",
      "Epoch 40/40\n",
      "58/58 [==============================] - 865s 15s/step - loss: 0.0664 - val_loss: 0.1481\n"
     ]
    }
   ],
   "source": [
    "history = model.fit(x_trn, y_trn,batch_size=512,epochs=40, validation_split=0.30, shuffle=True)\n",
    "# list all data in history\n",
    "#print(history.history.keys())\n",
    "#model.save('/content/drive/MyDrive/data_set/output/Pure_Noisy_Model.h5')"
   ]
  },
  {
   "cell_type": "code",
   "execution_count": null,
   "metadata": {
    "id": "n-CkkXlMbK51"
   },
   "outputs": [],
   "source": []
  },
  {
   "cell_type": "markdown",
   "metadata": {
    "id": "sGPiTS1MfgJ4"
   },
   "source": [
    "# **Testing & Evaluating Model**"
   ]
  },
  {
   "cell_type": "code",
   "execution_count": 94,
   "metadata": {
    "colab": {
     "base_uri": "https://localhost:8080/",
     "height": 383
    },
    "id": "z_J4eWSyZkZs",
    "outputId": "f770b4ed-05f4-4c6d-f14d-dfe6da7ecac0",
    "scrolled": false
   },
   "outputs": [
    {
     "name": "stdout",
     "output_type": "stream",
     "text": [
      "263/263 [==============================] - 73s 277ms/step - loss: 0.0157\n",
      "Training Accuracy is 98.4276831150055%\n"
     ]
    }
   ],
   "source": [
    "loss = model.evaluate(x_tst, y_tst)\n",
    "print('Training Accuracy is {}%'.format((1-loss)*100))"
   ]
  },
  {
   "cell_type": "markdown",
   "metadata": {
    "id": "sGPiTS1MfgJ4"
   },
   "source": [
    "# **Predicting  Model**"
   ]
  },
  {
   "cell_type": "code",
   "execution_count": 99,
   "metadata": {},
   "outputs": [],
   "source": [
    "import numpy as np\n",
    "y_pred=model.predict(x_tst)\n",
    "y_pred=np.where(y_pred >0.5 ,1,0)"
   ]
  },
  {
   "cell_type": "code",
   "execution_count": 152,
   "metadata": {
    "id": "vH2K7_E_Z4JR"
   },
   "outputs": [
    {
     "data": {
      "image/png": "[encoded data removed]",
      "text/plain": [
       "<Figure size 576x576 with 2 Axes>"
      ]
     },
     "metadata": {
      "needs_background": "light"
     },
     "output_type": "display_data"
    }
   ],
   "source": [
    "from sklearn.metrics import confusion_matrix\n",
    "import seaborn as sns\n",
    "import matplotlib.pyplot as plt\n",
    "\n",
    "confusion_mtx = confusion_matrix(y_tst[6], y_pred[6]) \n",
    "f,ax = plt.subplots(figsize=(8, 8))\n",
    "sns.heatmap(confusion_mtx, annot=True, linewidths=0.01,cmap=\"RdYlGn\",linecolor=\"gray\", fmt= '.1f',ax=ax)\n",
    "plt.xlabel(\"Predicted Signal\")\n",
    "plt.ylabel(\"True Signal\")\n",
    "plt.title(\"Confusion Matrix\")\n",
    "plt.show()"
   ]
  },
  {
   "cell_type": "markdown",
   "metadata": {
    "id": "N_S3HpVfftAC"
   },
   "source": [
    "# **Calculating BER**"
   ]
  },
  {
   "cell_type": "code",
   "execution_count": 125,
   "metadata": {},
   "outputs": [],
   "source": [
    "def calc_ber(pred, true):\n",
    "    p = pred\n",
    "    t = true\n",
    "    e = 0\n",
    "    for i in range(100):\n",
    "        if (p[i] ^ t[i] == 1):\n",
    "            e+=1\n",
    "    ber = \"{:e}\".format(e/100)\n",
    "    return ber.replace('e','*10^')"
   ]
  },
  {
   "cell_type": "code",
   "execution_count": 126,
   "metadata": {},
   "outputs": [
    {
     "data": {
      "text/plain": [
       "'2.000000*10^-02'"
      ]
     },
     "execution_count": 126,
     "metadata": {},
     "output_type": "execute_result"
    }
   ],
   "source": [
    "calc_ber(y_pred[6],y_tst[6])"
   ]
  },
  {
   "cell_type": "code",
   "execution_count": null,
   "metadata": {},
   "outputs": [],
   "source": []
  }
 ],
 "metadata": {
  "colab": {
   "collapsed_sections": [
    "vkEg0Zf7_o6N",
    "6R4sShamZ6zL",
    "sGPiTS1MfgJ4",
    "N_S3HpVfftAC"
   ],
   "provenance": []
  },
  "kernelspec": {
   "display_name": "Python 3",
   "language": "python",
   "name": "python3"
  },
  "language_info": {
   "codemirror_mode": {
    "name": "ipython",
    "version": 3
   },
   "file_extension": ".py",
   "mimetype": "text/x-python",
   "name": "python",
   "nbconvert_exporter": "python",
   "pygments_lexer": "ipython3",
   "version": "3.6.13"
  }
 },
 "nbformat": 4,
 "nbformat_minor": 1
}
